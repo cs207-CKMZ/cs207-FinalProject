{
 "cells": [
  {
   "cell_type": "markdown",
   "metadata": {},
   "source": [
    "### Software Organization\n",
    "\n",
    "The directory structure for the Automatic Differentiation Package will look like \n",
    "```\n",
    "AutoDiff_CKMZ/\n",
    "    AutoDiff_CKMZ/\n",
    "        __init__.py\n",
    "        modules/  \n",
    "            __init__.py\n",
    "            AutoDiff.py\n",
    "            tests/\n",
    "                __init__.py\n",
    "                test_fwd.py\n",
    "    README.md\n",
    "    setup.py\n",
    "    LICENSE\n",
    "    requirements.txt\n",
    "```\n",
    "\n",
    "The one and only module in the Automatic Differentiation package (AutoDiff_CKMZ) is ``` AutoDiff.py```, which contains the AutoDiff class that contains all the methods for forward mode automatic differentiation, including basic functions like exponents and trig functions, and operations like addition, multiplication, negation, etc. \n",
    "\n",
    "All functions in ```AutoDiff.py``` contain documentation and doctests. Further tests are located in the ```tests``` directory, in ```test_fwd.py```. These tests are run whenever a push is made to the project repository through TravisCI and Coveralls. The badges for Coveralls and TravisCI are updated on our github repository README.md file, allowing easy confirmation of our package's working status.\n",
    "\n",
    "Our package is available for download through PyPI as well as through our github project repository. Our software is supported through the MIT License. Developers and consumers can install using whichever method they are most comfortable with, either through PyPI or by downloading all necessary files from our project repository, and installing the dependencies outlined in ```requirements.txt```."
   ]
  },
  {
   "cell_type": "code",
   "execution_count": null,
   "metadata": {},
   "outputs": [],
   "source": []
  }
 ],
 "metadata": {
  "kernelspec": {
   "display_name": "Python 3",
   "language": "python",
   "name": "python3"
  },
  "language_info": {
   "codemirror_mode": {
    "name": "ipython",
    "version": 3
   },
   "file_extension": ".py",
   "mimetype": "text/x-python",
   "name": "python",
   "nbconvert_exporter": "python",
   "pygments_lexer": "ipython3",
   "version": "3.7.0"
  }
 },
 "nbformat": 4,
 "nbformat_minor": 2
}
