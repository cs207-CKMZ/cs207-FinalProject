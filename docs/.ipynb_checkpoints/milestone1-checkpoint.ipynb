{
 "cells": [
  {
   "cell_type": "markdown",
   "metadata": {},
   "source": [
    "### Introduction\n",
    "Describe problem the software solves and why it's important to solve that problem\n",
    "\n",
    "### Background\n",
    "Describe (briefly) the mathematical background and concepts as you see fit.  You **do not** need to\n",
    "give a treatise on automatic differentation or dual numbers.  Just give the essential ideas (e.g.\n",
    "the chain rule, the graph structure of calculations, elementary functions, etc).\n",
    "\n",
    "### How to Use *PackageName*\n",
    "How do you envision that a user will interact with your package?  What should they import?  How can\n",
    "they instantiate AD objects?\n",
    "\n",
    "**Note: This section should be a mix of pseudo code and text.  It should not include any actual\n",
    "operations yet.**\n",
    "\n",
    "### Software Organization\n",
    "Discuss how you plan on organizing your software package.\n",
    "* What will the directory structure look like?  \n",
    "* What modules do you plan on including?  What is their basic functionality?\n",
    "* Where will your test suite live?  Will you use `TravisCI`? `Coveralls`?\n",
    "* How will you distribute your package (e.g. `PyPI`)?\n",
    "\n",
    "### Implementation\n",
    "Discuss how you plan on implementing the forward mode of automatic differentiation.\n",
    "* What are the core data structures?\n",
    "* What classes will you implement?\n",
    "* What method and name attributes will your classes have?\n",
    "* What external dependencies will you rely on?\n",
    "* How will you deal with elementary functions like `sin` and `exp`?\n",
    "\n",
    "Be sure to consider a variety of use cases.  For example, don't limit your design to scalar\n",
    "functions of scalar values.  Make sure you can handle the situations of vector functions of vectors and\n",
    "scalar functions of vectors.  Don't forget that people will want to use your library in algorithms\n",
    "like Newton's method (among others).\n",
    "\n",
    "Try to keep your report to a reasonable length.  It will form the core of your documentation, so you\n",
    "want it to be a length that someone will actually want to read."
   ]
  },
  {
   "cell_type": "code",
   "execution_count": null,
   "metadata": {},
   "outputs": [],
   "source": []
  }
 ],
 "metadata": {
  "kernelspec": {
   "display_name": "Python 3",
   "language": "python",
   "name": "python3"
  },
  "language_info": {
   "codemirror_mode": {
    "name": "ipython",
    "version": 3
   },
   "file_extension": ".py",
   "mimetype": "text/x-python",
   "name": "python",
   "nbconvert_exporter": "python",
   "pygments_lexer": "ipython3",
   "version": "3.6.5"
  }
 },
 "nbformat": 4,
 "nbformat_minor": 2
}
